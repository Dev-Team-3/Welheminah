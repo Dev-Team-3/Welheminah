{
 "cells": [
  {
   "cell_type": "code",
   "execution_count": 6,
   "metadata": {},
   "outputs": [
    {
     "name": "stdout",
     "output_type": "stream",
     "text": [
      "{'_id': ObjectId('5e5773be8872562da01c23ed'), 'type;price;brand;stock;barcode;quantity': 'Coke;R15;Coca-Cola;50;745;330ml'}\n",
      "{'_id': ObjectId('5e5773be8872562da01c23ee'), 'type;price;brand;stock;barcode;quantity': 'Fanta;R11;Coca-Cola;30;730154;330ml'}\n",
      "{'_id': ObjectId('5e5773be8872562da01c23ef'), 'type;price;brand;stock;barcode;quantity': 'Sprite;R12;Coca-Cola;30;754785;330ml'}\n",
      "{'_id': ObjectId('5e5773be8872562da01c23f0'), 'type;price;brand;stock;barcode;quantity': 'Dry Lemon;R14;Shweppes;30;754755;330ml'}\n",
      "{'_id': ObjectId('5e5773be8872562da01c23f1'), 'type;price;brand;stock;barcode;quantity': 'Stoney;R10;Coca-Cola;20;7334744;330ml'}\n",
      "{'_id': ObjectId('5e5773be8872562da01c23f2'), 'type;price;brand;stock;barcode;quantity': 'Cadbury;R12;Dairymilk;20;7542;15g'}\n",
      "{'_id': ObjectId('5e5773be8872562da01c23f3'), 'type;price;brand;stock;barcode;quantity': 'Tex;R11;Dairymilk;30;730475;12g'}\n",
      "{'_id': ObjectId('5e5773be8872562da01c23f4'), 'type;price;brand;stock;barcode;quantity': 'Kit-kat;R11;Dairymilk;20;7548;19g'}\n",
      "{'_id': ObjectId('5e5773be8872562da01c23f5'), 'type;price;brand;stock;barcode;quantity': 'Linds;R20;Linds;10;75475;20g'}\n",
      "{'_id': ObjectId('5e5773be8872562da01c23f6'), 'type;price;brand;stock;barcode;quantity': 'TV bar;R12;Dairymilk;30;7335544;15g'}\n",
      "{'_id': ObjectId('5e5773be8872562da01c23f7'), 'type;price;brand;stock;barcode;quantity': 'Simba;R28;Simba;30;73322;130g'}\n",
      "{'_id': ObjectId('5e5773be8872562da01c23f8'), 'type;price;brand;stock;barcode;quantity': 'Lays;R14;Simba;40;73327;125g'}\n",
      "{'_id': ObjectId('5e5773be8872562da01c23f9'), 'type;price;brand;stock;barcode;quantity': 'Doritos;R11;Simba;30;73326;125g'}\n",
      "{'_id': ObjectId('5e5773be8872562da01c23fa'), 'type;price;brand;stock;barcode;quantity': 'Nik Nats;R12;Simba;20;73324;130g'}\n",
      "{'_id': ObjectId('5e5773be8872562da01c23fb'), 'type;price;brand;stock;barcode;quantity': 'Fritos;R15;Simba;50;733225;130g'}\n",
      "{'_id': ObjectId('5e5773be8872562da01c23fc'), 'type;price;brand;stock;barcode;quantity': 'Tennis;R12;Bakers;20;15000003640;50g'}\n",
      "{'_id': ObjectId('5e5773be8872562da01c23fd'), 'type;price;brand;stock;barcode;quantity': 'Oreo;R13;Nabisco;20;1400000641;50g'}\n",
      "{'_id': ObjectId('5e5773be8872562da01c23fe'), 'type;price;brand;stock;barcode;quantity': 'Digestives;R13;MacVities;30;1100000643;50g'}\n",
      "{'_id': ObjectId('5e5773be8872562da01c23ff'), 'type;price;brand;stock;barcode;quantity': 'Marie;R14;Bakers;20;1300000644;50g'}\n",
      "{'_id': ObjectId('5e5773be8872562da01c2400'), 'type;price;brand;stock;barcode;quantity': 'Fingers;R12;Bakers;40;12000000645;50g'}\n",
      "{'_id': ObjectId('5e5773be8872562da01c2401'), 'type;price;brand;stock;barcode;quantity': 'Vanilla;R13;Ouma;20;71007458;1'}\n",
      "{'_id': ObjectId('5e5773be8872562da01c2402'), 'type;price;brand;stock;barcode;quantity': 'Chocolate;R14;Ouma;20;7200730154;1'}\n",
      "{'_id': ObjectId('5e5773be8872562da01c2403'), 'type;price;brand;stock;barcode;quantity': 'Carrot;R13;Ouma;20;730754785;1'}\n",
      "{'_id': ObjectId('5e5773be8872562da01c2404'), 'type;price;brand;stock;barcode;quantity': 'Oreo;R13;Ouma;20;740754755;1'}\n",
      "{'_id': ObjectId('5e5773be8872562da01c2405'), 'type;price;brand;stock;barcode;quantity': 'Red Velvet;R14;Ouma;20;4587334744;1'}\n",
      "{'_id': ObjectId('5e5773be8872562da01c2406'), 'type;price;brand;stock;barcode;quantity': 'Apple;R2;Trucape;40;3640;1'}\n",
      "{'_id': ObjectId('5e5773be8872562da01c2407'), 'type;price;brand;stock;barcode;quantity': 'Pear;R2;Trucape;40;641;1'}\n",
      "{'_id': ObjectId('5e5773be8872562da01c2408'), 'type;price;brand;stock;barcode;quantity': 'Orange;R2;Zests;40;643;1'}\n",
      "{'_id': ObjectId('5e5773be8872562da01c2409'), 'type;price;brand;stock;barcode;quantity': 'Banana;R2;Trucape;40;644;1'}\n",
      "{'_id': ObjectId('5e5773be8872562da01c240a'), 'type;price;brand;stock;barcode;quantity': 'Grapes;R15;Sweetland;20;645;30g'}\n",
      "{'_id': ObjectId('5e5773be8872562da01c240b'), 'type;price;brand;stock;barcode;quantity': 'Pepper Steak;R13;Pieman;30;10000000001;30g'}\n",
      "{'_id': ObjectId('5e5773be8872562da01c240c'), 'type;price;brand;stock;barcode;quantity': 'Chicken;R13;Pieman;30;10000000002;30g'}\n",
      "{'_id': ObjectId('5e5773be8872562da01c240d'), 'type;price;brand;stock;barcode;quantity': 'Spinach;R13;Pieman;30;1000000003;30g'}\n",
      "{'_id': ObjectId('5e5773be8872562da01c240e'), 'type;price;brand;stock;barcode;quantity': 'Burger;R13;Pieman;30;10000000004;30g'}\n",
      "{'_id': ObjectId('5e5773be8872562da01c240f'), 'type;price;brand;stock;barcode;quantity': 'Curry;R13;Pieman;30;10000000005;30g'}\n",
      "{'_id': ObjectId('5e5773be8872562da01c2410'), 'type;price;brand;stock;barcode;quantity': 'Amajoya;R12;Amajoya;50;15001543640;125g'}\n",
      "{'_id': ObjectId('5e5773be8872562da01c2411'), 'type;price;brand;stock;barcode;quantity': 'Jelly-Babies;R13;Maynatts;50;4015400641;125g'}\n",
      "{'_id': ObjectId('5e5773be8872562da01c2412'), 'type;price;brand;stock;barcode;quantity': 'SoftGums;R13;Mr Sweets;50;11015400643;125g'}\n",
      "{'_id': ObjectId('5e5773be8872562da01c2413'), 'type;price;brand;stock;barcode;quantity': 'Winegums;R14;Beacon;50;13001540644;125g'}\n",
      "{'_id': ObjectId('5e5773be8872562da01c2414'), 'type;price;brand;stock;barcode;quantity': 'Mentos;R12;Mentos;50;1204500645;125g'}\n",
      "{'_id': ObjectId('5e5773be8872562da01c2415'), 'type;price;brand;stock;barcode;quantity': 'Spinach;R12;Organic girl;10;73363;130g'}\n",
      "{'_id': ObjectId('5e5773be8872562da01c2416'), 'type;price;brand;stock;barcode;quantity': 'Cabbage;R10;Organic girl;20;73343;125g'}\n",
      "{'_id': ObjectId('5e5773be8872562da01c2417'), 'type;price;brand;stock;barcode;quantity': 'Carrot;R10;Bolt;20;73328;1kg'}\n",
      "{'_id': ObjectId('5e5773be8872562da01c2418'), 'type;price;brand;stock;barcode;quantity': 'Cucumber;R12;Cuts;20;73390;1 unit'}\n",
      "{'_id': ObjectId('5e5773be8872562da01c2419'), 'type;price;brand;stock;barcode;quantity': 'Tomato;R10;ZZ2;30;733245;1kg'}\n",
      "{'_id': ObjectId('5e5773be8872562da01c241a'), 'type;price;brand;stock;barcode;quantity': 'Bonaqua;R12;Coca cola;50;15001543640;500ml'}\n",
      "{'_id': ObjectId('5e5773be8872562da01c241b'), 'type;price;brand;stock;barcode;quantity': 'Aquelle;R10;Aquelle;50;14015400641;500ml'}\n",
      "{'_id': ObjectId('5e5773be8872562da01c241c'), 'type;price;brand;stock;barcode;quantity': 'Quartz;R11;Quartz;50;11015400643;500ml'}\n",
      "{'_id': ObjectId('5e5773be8872562da01c241d'), 'type;price;brand;stock;barcode;quantity': 'Eastern highlands;R14;Eastern highlands;50;13001540644;500ml'}\n",
      "{'_id': ObjectId('5e5773be8872562da01c241e'), 'type;price;brand;stock;barcode;quantity': 'Tsitsikama;R14;Tsitsikama;50;1'}\n",
      "{'_id': ObjectId('5e5773be8872562da01c241f'), 'type;price;brand;stock;barcode;quantity': ''}\n"
     ]
    }
   ],
   "source": [
    "# 1 and 2\n",
    "import pymongo\n",
    "import pandas as pd\n",
    "myclient = pymongo.MongoClient(\"mongodb://localhost:27017/\")\n",
    "mydb = myclient[\"Data_Tracker\"]\n",
    "\n",
    "mycol = mydb[\"customers\"]\n",
    "for x in mycol.find():\n",
    "    print(x)\n",
    "\n"
   ]
  },
  {
   "cell_type": "code",
   "execution_count": 14,
   "metadata": {},
   "outputs": [
    {
     "name": "stdout",
     "output_type": "stream",
     "text": [
      "{'_id': ObjectId('5e578eb9416bc04d88435c19'), 'Catergories': 'Coldrink', 'Type': 'Coke', 'Price': 15, 'Stock': 50, 'Brands': 'Coca-Cola', 'Quantity': '330ml', 'Barcode': 745}\n",
      "{'_id': ObjectId('5e578eb9416bc04d88435c1a'), 'Catergories': 'Chips', 'Type': 'Fritos', 'Price': 15, 'Stock': 50, 'Brands': 'Simba', 'Quantity': '130g', 'Barcode': 733225}\n",
      "{'_id': ObjectId('5e578eb9416bc04d88435c1b'), 'Catergories': 'Water', 'Type': 'Bonaqua', 'Price': 12, 'Stock': 50, 'Brands': 'Coca-Cola', 'Quantity': '500ml', 'Barcode': 120458000645}\n"
     ]
    }
   ],
   "source": [
    "#3\n",
    "# My Top 3 Products\n",
    "mycol = mydb[\"Data_Tracker\"]\n",
    "mycol = mydb[\"Top Products\"] \n",
    "mylist = [\n",
    "  {\"Catergories\": \"Coldrink\", \"Type\": \"Coke\", \"Price\": 15, \"Stock\": 50, \"Brands\": \"Coca-Cola\", \"Quantity\": \"330ml\", \"Barcode\": 745},             \n",
    "  {\"Catergories\": \"Chips\", \"Type\": \"Fritos\", \"Price\": 15, \"Stock\": 50, \"Brands\": \"Simba\", \"Quantity\": \"130g\", \"Barcode\": 733225},\n",
    "  { \"Catergories\": \"Water\", \"Type\": \"Bonaqua\", \"Price\": 12, \"Stock\": 50, \"Brands\": \"Coca-Cola\", \"Quantity\": \"500ml\", \"Barcode\": 120458000645}\n",
    "    ]\n",
    "x = mycol.insert_many(mylist)\n",
    "for x in mycol.find():\n",
    "    print(x)"
   ]
  },
  {
   "cell_type": "code",
   "execution_count": 16,
   "metadata": {},
   "outputs": [
    {
     "name": "stdout",
     "output_type": "stream",
     "text": [
      "<pymongo.results.InsertManyResult object at 0x000002062A6BACC8>\n"
     ]
    }
   ],
   "source": [
    "#4\n",
    "import pymongo \n",
    "myclient = pymongo.MongoClient(\"mongodb://localhost:27017/\")\n",
    "mycol = mydb[\"Data_Tracker\" ]\n",
    "mycol = mydb[\"Top Products\"] \n",
    "mylist = [\n",
    "      { \"type\": \"Peach Juice\", \"price\": 20, \"brand\": \"Tropika(Clover)\", \"stock\": 40, \"barcode\": \"10001005\", \"quantity\": \"2L\"},\n",
    "\n",
    "  {  \"type\": \"Berry Blaze\", \"price\": 18, \"brand\": \"Liqui Fruit\", \"stock\": 30, \"barcode\": \"10001004\", \"quantity\": \"1L\"},\n",
    "\n",
    "  {  \"type\": \"Orange\", \"price\": 15, \"brand\": \"Minute Maid\", \"stock\": 35, \"barcode\": \"10001003\", \"quantity\": \"1L\"},\n",
    "\n",
    "  {  \"type\": \"Fruit Cocktail\", \"price\": 21, \"brand\": \"Tang\", \"stock\": 20, \"barcode\": \"10001002\", \"quantity\": \"2L\"},\n",
    "\n",
    "  { \"type\": \"Apple\", \"price\": 15, \"brand\": \"Nestle\", \"stock\": 80, \"barcode\": \"10001001\", \"quantity\": \"2L\"}\n",
    "]\n",
    "x = mycol.insert_many(mylist)\n",
    "print(x)"
   ]
  },
  {
   "cell_type": "code",
   "execution_count": 19,
   "metadata": {},
   "outputs": [
    {
     "name": "stdout",
     "output_type": "stream",
     "text": [
      "{'_id': ObjectId('5e578eb9416bc04d88435c1a'), 'Catergories': 'Chips', 'Type': 'Fritos', 'Price': 15, 'Stock': 50, 'Brands': 'Simba', 'Quantity': '130g', 'Barcode': 733225}\n",
      "{'_id': ObjectId('5e578eb9416bc04d88435c19'), 'Catergories': 'Coldrink', 'Type': 'Coke', 'Price': 15, 'Stock': 50, 'Brands': 'Coca-Cola', 'Quantity': '330ml', 'Barcode': 745}\n",
      "{'_id': ObjectId('5e578eb9416bc04d88435c1b'), 'Catergories': 'Water', 'Type': 'Bonaqua', 'Price': 12, 'Stock': 50, 'Brands': 'Coca-Cola', 'Quantity': '500ml', 'Barcode': 120458000645}\n"
     ]
    }
   ],
   "source": [
    "#5 Descending Sort\n",
    "import pymongo\n",
    "myclient = pymongo.MongoClient(\"mongodb://localhost:27017/\")\n",
    "mydb = myclient[\"Data_Tracker\" ]\n",
    "mycol = mydb[\"Top Products\"] \n",
    "mydoc = mycol.find().sort(\"Type\", -1)\n",
    "\n",
    "for x in mydoc:\n",
    "    print(x)"
   ]
  },
  {
   "cell_type": "code",
   "execution_count": 20,
   "metadata": {},
   "outputs": [
    {
     "name": "stdout",
     "output_type": "stream",
     "text": [
      "{'_id': ObjectId('5e578eb9416bc04d88435c19'), 'Catergories': 'Coldrink', 'Type': 'Coke', 'Price': 15, 'Stock': 50, 'Brands': 'Coca-Cola', 'Quantity': '330ml', 'Barcode': 745}\n",
      "{'_id': ObjectId('5e578eb9416bc04d88435c1a'), 'Catergories': 'Chips', 'Type': 'Fritos', 'Price': 15, 'Stock': 50, 'Brands': 'Simba', 'Quantity': '130g', 'Barcode': 733225}\n",
      "{'_id': ObjectId('5e578eb9416bc04d88435c1b'), 'Catergories': 'Water', 'Type': 'Bonaqua', 'Price': 12, 'Stock': 50, 'Brands': 'Coca-Cola', 'Quantity': '500ml', 'Barcode': 120458000645}\n"
     ]
    }
   ],
   "source": [
    "#6\n",
    "myquery = {\"type\": \"Fritos\"}\n",
    "mycol.delete_one(myquery)\n",
    "for x in mycol.find():\n",
    "    print(x)"
   ]
  },
  {
   "cell_type": "code",
   "execution_count": 21,
   "metadata": {},
   "outputs": [
    {
     "name": "stdout",
     "output_type": "stream",
     "text": [
      "{'_id': ObjectId('5e578eb9416bc04d88435c19'), 'Catergories': 'Coldrink', 'Type': 'Coke', 'Price': 15, 'Stock': 50, 'Brands': 'Coca-Cola', 'Quantity': '330ml', 'Barcode': 745}\n",
      "{'_id': ObjectId('5e578eb9416bc04d88435c1a'), 'Catergories': 'Chips', 'Type': 'Fritos', 'Price': 15, 'Stock': 50, 'Brands': 'Simba', 'Quantity': '130g', 'Barcode': 733225}\n",
      "{'_id': ObjectId('5e578eb9416bc04d88435c1b'), 'Catergories': 'Water', 'Type': 'Bonaqua', 'Price': 12, 'Stock': 50, 'Brands': 'Coca-Cola', 'Quantity': '500ml', 'Barcode': 120458000645}\n"
     ]
    }
   ],
   "source": [
    "myquery = {\"type\": \"Coke\"}\n",
    "mycol.delete_one(myquery)\n",
    "for x in mycol.find():\n",
    "    print(x)"
   ]
  },
  {
   "cell_type": "code",
   "execution_count": 24,
   "metadata": {},
   "outputs": [
    {
     "name": "stdout",
     "output_type": "stream",
     "text": [
      "{'_id': ObjectId('5e578eb9416bc04d88435c19'), 'Catergories': 'Coldrink', 'Type': 'Coke', 'Price': 15, 'Stock': 50, 'Brands': 'Coca-Cola', 'Quantity': '330ml', 'Barcode': 745}\n",
      "{'_id': ObjectId('5e578eb9416bc04d88435c1a'), 'Catergories': 'Chips', 'Type': 'Fritos', 'Price': 15, 'Stock': 50, 'Brands': 'Simba', 'Quantity': '130g', 'Barcode': 733225}\n",
      "{'_id': ObjectId('5e578eb9416bc04d88435c1b'), 'Catergories': 'Water', 'Type': 'Still Water', 'Price': 12, 'Stock': 50, 'Brands': 'Coca-Cola', 'Quantity': '500ml', 'Barcode': 120458000645}\n"
     ]
    }
   ],
   "source": [
    "#7 \n",
    "myquery = {\"Type\" : \"Bonaqua\"}\n",
    "newvalues = {\"$set\" : {\"Type\" : \"Still Water\"}}\n",
    "mycol.update_one(myquery, newvalues)\n",
    "for x in mycol.find():\n",
    "    print(x)"
   ]
  },
  {
   "cell_type": "code",
   "execution_count": null,
   "metadata": {},
   "outputs": [],
   "source": [
    "#8\n",
    "import pymongo\n",
    "myclient = pymongo.MongoClient(\"mongodb://localhost:27017/\")\n",
    "mydb = myclient[\"Data_Tracker\"]\n",
    "mycol = mydb[\"Top Products\"]\n",
    "myquery = ({\"price\" : {'$lt': '20'}})\n",
    "mydoc = mycol.find(myquery)\n",
    "for x in mydoc:\n",
    "    print(x)"
   ]
  },
  {
   "cell_type": "code",
   "execution_count": null,
   "metadata": {},
   "outputs": [],
   "source": []
  },
  {
   "cell_type": "code",
   "execution_count": null,
   "metadata": {},
   "outputs": [],
   "source": []
  }
 ],
 "metadata": {
  "kernelspec": {
   "display_name": "Python 3",
   "language": "python",
   "name": "python3"
  },
  "language_info": {
   "codemirror_mode": {
    "name": "ipython",
    "version": 3
   },
   "file_extension": ".py",
   "mimetype": "text/x-python",
   "name": "python",
   "nbconvert_exporter": "python",
   "pygments_lexer": "ipython3",
   "version": "3.7.4"
  }
 },
 "nbformat": 4,
 "nbformat_minor": 2
}
